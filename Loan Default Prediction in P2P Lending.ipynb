{
 "cells": [
  {
   "cell_type": "markdown",
   "id": "2f4bf367-50c2-4a32-afb4-a1b743c0f4ac",
   "metadata": {},
   "source": [
    "# Loan-Default-Prediction-in-P2P-Lending 2\n",
    "### MELEK KURU,
    "### PREPROCESSING THE DATA\n",
    "### Train Data"
   ]
  },
  {
   "cell_type": "code",
   "execution_count": 1,
   "id": "a00ebcbd-ec27-4a82-8f2c-0c13e7d7227b",
   "metadata": {},
   "outputs": [],
   "source": [
    "import numpy as np\n",
    "import pandas as pd\n",
    "import seaborn as sns\n",
    "import matplotlib.pyplot as plt\n",
    "from sklearn.datasets import make_regression\n",
    "from sklearn import linear_model\n",
    "from sklearn.linear_model import LinearRegression"
   ]
  },
  {
   "cell_type": "code",
   "execution_count": 2,
   "id": "548b201c-91ac-49d7-8d2f-3aa13c649468",
   "metadata": {},
   "outputs": [
    {
     "name": "stdout",
     "output_type": "stream",
     "text": [
      "dimension (226067, 33)\n"
     ]
    }
   ],
   "source": [
    "# Reading training data set\n",
    "train = pd.read_csv('trainData.csv')\n",
    "dim = train.shape\n",
    "print('dimension', dim)"
   ]
  },
  {
   "cell_type": "code",
   "execution_count": 3,
   "id": "e92f8af3-2dac-43f0-9b79-eefec992eb7b",
   "metadata": {},
   "outputs": [
    {
     "name": "stdout",
     "output_type": "stream",
     "text": [
      "['Fully Paid' 'Current' 'Charged Off' 'In Grace Period'\n",
      " 'Late (31-120 days)' 'Late (16-30 days)'\n",
      " 'Does not meet the credit policy. Status:Fully Paid'\n",
      " 'Does not meet the credit policy. Status:Charged Off' 'Default']\n",
      "   id  member_id  loan_amnt  int_rate  installment grade emp_length  \\\n",
      "0 NaN        NaN      18600     10.99       608.86     B    6 years   \n",
      "1 NaN        NaN       2000     17.97        72.28     D    4 years   \n",
      "2 NaN        NaN      12000     12.29       400.24     C  10+ years   \n",
      "3 NaN        NaN      16000     19.42       589.90     D    7 years   \n",
      "4 NaN        NaN      22525     16.02       548.01     C  10+ years   \n",
      "\n",
      "  home_ownership  annual_inc loan_status  ...  recoveries  \\\n",
      "0           RENT     80000.0  Fully Paid  ...         0.0   \n",
      "1       MORTGAGE     55400.0     Current  ...         0.0   \n",
      "2            OWN     60000.0  Fully Paid  ...         0.0   \n",
      "3           RENT     64000.0     Current  ...         0.0   \n",
      "4       MORTGAGE     94080.0  Fully Paid  ...         0.0   \n",
      "\n",
      "   collection_recovery_fee  last_pymnt_amnt  collections_12_mths_ex_med  \\\n",
      "0                      0.0         15705.09                         0.0   \n",
      "1                      0.0            72.28                         0.0   \n",
      "2                      0.0         11281.15                         0.0   \n",
      "3                      0.0           589.90                         0.0   \n",
      "4                      0.0         21483.11                         0.0   \n",
      "\n",
      "   application_type  acc_now_delinq  tot_coll_amt  tot_cur_bal  \\\n",
      "0        Individual             0.0           0.0     170238.0   \n",
      "1         Joint App             0.0          74.0     351452.0   \n",
      "2        Individual             0.0           0.0      18207.0   \n",
      "3        Individual             0.0           0.0      12293.0   \n",
      "4        Individual             0.0         250.0     571244.0   \n",
      "\n",
      "   total_rev_hi_lim  y  \n",
      "0           20700.0  0  \n",
      "1           10800.0  0  \n",
      "2           20600.0  0  \n",
      "3            7800.0  0  \n",
      "4           53800.0  0  \n",
      "\n",
      "[5 rows x 34 columns]\n"
     ]
    }
   ],
   "source": [
    "print(train['loan_status'].unique())\n",
    "# Create new variable (y) takes the value = 1 if the column “loan status” has the value\n",
    "# “Charged Off” and 0 otherwise.\n",
    "train['y'] = (train['loan_status'] == 'Charged Off').astype(int)\n",
    "train.to_csv('trainData_new.csv', index=False)\n",
    "new_train = pd.read_csv('trainData_new.csv')\n",
    "print(new_train.head())"
   ]
  },
  {
   "cell_type": "code",
   "execution_count": 4,
   "id": "1e614ac5-8dc7-4c7c-9ce2-7bf1f9d23529",
   "metadata": {},
   "outputs": [
    {
     "name": "stdout",
     "output_type": "stream",
     "text": [
      "Features in train set with missing values: \n",
      "\n",
      "id                            226067\n",
      "member_id                     226067\n",
      "loan_amnt                          0\n",
      "int_rate                           0\n",
      "installment                        0\n",
      "grade                              0\n",
      "emp_length                     14611\n",
      "home_ownership                     0\n",
      "annual_inc                         0\n",
      "loan_status                        0\n",
      "dti                              180\n",
      "delinq_2yrs                        5\n",
      "inq_last_6mths                     5\n",
      "mths_since_last_delinq        115840\n",
      "open_acc                           5\n",
      "pub_rec                            5\n",
      "revol_bal                          0\n",
      "revol_util                       190\n",
      "total_acc                          5\n",
      "total_pymnt                        0\n",
      "total_pymnt_inv                    0\n",
      "total_rec_prncp                    0\n",
      "total_rec_int                      0\n",
      "total_rec_late_fee                 0\n",
      "recoveries                         0\n",
      "collection_recovery_fee            0\n",
      "last_pymnt_amnt                    0\n",
      "collections_12_mths_ex_med        16\n",
      "application_type                   0\n",
      "acc_now_delinq                     5\n",
      "tot_coll_amt                    7107\n",
      "tot_cur_bal                     7107\n",
      "total_rev_hi_lim                7107\n",
      "y                                  0\n",
      "dtype: int64\n"
     ]
    }
   ],
   "source": [
    "# checking the misisng values in all columns\n",
    "misval_train = new_train.isnull().sum()\n",
    "print(\"Features in train set with missing values: \\n\")\n",
    "print(misval_train)"
   ]
  },
  {
   "cell_type": "code",
   "execution_count": 5,
   "id": "357fd88e-184c-486a-950f-a6ba0df71f74",
   "metadata": {},
   "outputs": [
    {
     "name": "stdout",
     "output_type": "stream",
     "text": [
      "Categorical Columns:\n",
      "Index(['grade', 'emp_length', 'home_ownership', 'loan_status',\n",
      "       'application_type'],\n",
      "      dtype='object')\n"
     ]
    }
   ],
   "source": [
    "col_categorical = new_train.select_dtypes(include=['object']).columns\n",
    "print(\"Categorical Columns:\")\n",
    "print(col_categorical)"
   ]
  },
  {
   "cell_type": "code",
   "execution_count": 14,
   "id": "6b178ef4-dba3-4241-9cfb-9b8cc3421f57",
   "metadata": {},
   "outputs": [
    {
     "name": "stdout",
     "output_type": "stream",
     "text": [
      "['B' 'D' 'C' 'A' 'F' 'E' 'G']\n",
      "['6 years' '4 years' '10+ years' '7 years' '1 year' '9 years' '< 1 year'\n",
      " '5 years' '3 years' nan '8 years' '2 years']\n",
      "['RENT' 'MORTGAGE' 'OWN' 'ANY' 'NONE' 'OTHER']\n",
      "['Individual' 'Joint App']\n"
     ]
    }
   ],
   "source": [
    "# Checking the values of grade column\n",
    "print(new_train['grade'].unique())\n",
    "# Checking the values of emp_length column\n",
    "print(new_train['emp_length'].unique())\n",
    "# Checking the values of home_ownership column\n",
    "print(new_train['home_ownership'].unique())\n",
    "# Checking the values of application_type column\n",
    "print(new_train['application_type'].unique())"
   ]
  },
  {
   "cell_type": "code",
   "execution_count": 6,
   "id": "77db3e62-9cd2-439b-afad-d74ae6bfc921",
   "metadata": {},
   "outputs": [],
   "source": [
    "# converting the values of grade\n",
    "from sklearn.preprocessing import LabelEncoder\n",
    "label_encoder = LabelEncoder()\n",
    "new_train['grade'] = label_encoder.fit_transform(new_train['grade'])"
   ]
  },
  {
   "cell_type": "code",
   "execution_count": 7,
   "id": "629aa3b2-7b1f-4a1a-8e3e-7e93bc73c87f",
   "metadata": {},
   "outputs": [],
   "source": [
    "# converting the values of home_ownership\n",
    "ownership_dummies = pd.get_dummies(new_train['home_ownership'], prefix='home_ownership')\n",
    "new_train = pd.concat([new_train, ownership_dummies], axis=1)\n",
    "new_train.drop('home_ownership', axis=1, inplace=True)"
   ]
  },
  {
   "cell_type": "code",
   "execution_count": 8,
   "id": "3b09674c-d6a0-4f9c-9d79-5d14c2767045",
   "metadata": {},
   "outputs": [],
   "source": [
    "# converting the values of application_type\n",
    "new_train['application_type'].replace({'Individual': 0, 'Joint App': 1}, inplace=True)"
   ]
  },
  {
   "cell_type": "code",
   "execution_count": 9,
   "id": "7d5eacbe-77ff-49ed-a0c5-f322cf68638a",
   "metadata": {},
   "outputs": [],
   "source": [
    "# converting the values of emp_length  \n",
    "emp_length_val = {\n",
    "    '< 1 year': 0,\n",
    "    '1 year': 1,\n",
    "    '2 years': 2,\n",
    "    '3 years': 3,\n",
    "    '4 years': 4,\n",
    "    '5 years': 5,\n",
    "    '6 years': 6,\n",
    "    '7 years': 7,\n",
    "    '8 years': 8,\n",
    "    '9 years': 9,\n",
    "    '10+ years': 10\n",
    "}\n",
    "new_train['emp_length'].replace(emp_length_val, inplace=True)"
   ]
  },
  {
   "cell_type": "code",
   "execution_count": 10,
   "id": "9d6de0c9-c7c6-424a-bb8e-300f233bde49",
   "metadata": {},
   "outputs": [],
   "source": [
    "# Drop the unnecessary columns\n",
    "col_drop = ['id', 'member_id', 'mths_since_last_delinq', 'loan_status'] \n",
    "new_train.drop(col_drop, axis=1, inplace=True)"
   ]
  },
  {
   "cell_type": "code",
   "execution_count": 11,
   "id": "9c9d7f53-fb77-4552-88d6-eefaae0e8f17",
   "metadata": {},
   "outputs": [],
   "source": [
    "# impute the missing values of emp_length\n",
    "median_of_emplength = new_train['emp_length'].median()\n",
    "new_train['emp_length'].fillna(median_of_emplength, inplace=True)"
   ]
  },
  {
   "cell_type": "code",
   "execution_count": 12,
   "id": "31de5a8f-4187-4b43-b687-dbd73dd6b663",
   "metadata": {},
   "outputs": [],
   "source": [
    "# Drop the rows with missing values\n",
    "col_misval = ['dti', 'delinq_2yrs', 'inq_last_6mths', 'open_acc', 'pub_rec',\n",
    "                               'revol_util', 'total_acc', 'collections_12_mths_ex_med',\n",
    "                               'acc_now_delinq', 'tot_coll_amt', 'tot_cur_bal', 'total_rev_hi_lim']\n",
    "\n",
    "new_train.dropna(subset=col_misval, inplace=True)"
   ]
  },
  {
   "cell_type": "code",
   "execution_count": 22,
   "id": "ea687e0e-e22d-4387-badb-702ef708a96d",
   "metadata": {},
   "outputs": [
    {
     "name": "stdout",
     "output_type": "stream",
     "text": [
      "Features in train set with missing values: \n",
      "\n",
      "loan_amnt                     0\n",
      "int_rate                      0\n",
      "installment                   0\n",
      "grade                         0\n",
      "emp_length                    0\n",
      "annual_inc                    0\n",
      "dti                           0\n",
      "delinq_2yrs                   0\n",
      "inq_last_6mths                0\n",
      "open_acc                      0\n",
      "pub_rec                       0\n",
      "revol_bal                     0\n",
      "revol_util                    0\n",
      "total_acc                     0\n",
      "total_pymnt                   0\n",
      "total_pymnt_inv               0\n",
      "total_rec_prncp               0\n",
      "total_rec_int                 0\n",
      "total_rec_late_fee            0\n",
      "recoveries                    0\n",
      "collection_recovery_fee       0\n",
      "last_pymnt_amnt               0\n",
      "collections_12_mths_ex_med    0\n",
      "application_type              0\n",
      "acc_now_delinq                0\n",
      "tot_coll_amt                  0\n",
      "tot_cur_bal                   0\n",
      "total_rev_hi_lim              0\n",
      "y                             0\n",
      "home_ownership_ANY            0\n",
      "home_ownership_MORTGAGE       0\n",
      "home_ownership_NONE           0\n",
      "home_ownership_OTHER          0\n",
      "home_ownership_OWN            0\n",
      "home_ownership_RENT           0\n",
      "dtype: int64\n"
     ]
    }
   ],
   "source": [
    "# checking the missing values\n",
    "misval_train = new_train.isnull().sum()\n",
    "print(\"Features in train set with missing values: \\n\")\n",
    "print(misval_train)"
   ]
  },
  {
   "cell_type": "code",
   "execution_count": 13,
   "id": "411a5e06-a03c-4843-ad4f-55d3c4b12e53",
   "metadata": {},
   "outputs": [],
   "source": [
    "# Transform the data scale to be between 0,1 using min max scale\n",
    "from sklearn.preprocessing import MinMaxScaler\n",
    "scaler = MinMaxScaler()\n",
    "\n",
    "col_scale = new_train.columns\n",
    "\n",
    "new_train[col_scale] = scaler.fit_transform(new_train[col_scale])"
   ]
  },
  {
   "cell_type": "markdown",
   "id": "36f5d14b-a0af-4bab-a748-ca51b6c81212",
   "metadata": {},
   "source": [
    "### Test Data"
   ]
  },
  {
   "cell_type": "code",
   "execution_count": 14,
   "id": "42fa9583-cb8e-4b46-92e0-ba1c6ac07a33",
   "metadata": {},
   "outputs": [
    {
     "name": "stdout",
     "output_type": "stream",
     "text": [
      "dimension (226067, 33)\n"
     ]
    }
   ],
   "source": [
    "# Read the training dataset\n",
    "test = pd.read_csv('testData.csv')\n",
    "dim = test.shape\n",
    "print('dimension', dim)"
   ]
  },
  {
   "cell_type": "code",
   "execution_count": 15,
   "id": "a2ca1065-196c-4613-9fe3-1962e30a158c",
   "metadata": {},
   "outputs": [
    {
     "name": "stdout",
     "output_type": "stream",
     "text": [
      "['Fully Paid' 'Current' 'Charged Off' 'In Grace Period'\n",
      " 'Late (31-120 days)' 'Late (16-30 days)'\n",
      " 'Does not meet the credit policy. Status:Fully Paid'\n",
      " 'Does not meet the credit policy. Status:Charged Off' 'Default']\n",
      "   id  member_id  loan_amnt  int_rate  installment grade emp_length  \\\n",
      "0 NaN        NaN       8000      7.07       247.28     A  10+ years   \n",
      "1 NaN        NaN      20000      7.21       619.47     A    3 years   \n",
      "2 NaN        NaN      20000     12.74       452.41     C    5 years   \n",
      "3 NaN        NaN      20000      8.81       634.23     A  10+ years   \n",
      "4 NaN        NaN      20000     15.31       479.06     C  10+ years   \n",
      "\n",
      "  home_ownership  annual_inc loan_status  ...  recoveries  \\\n",
      "0       MORTGAGE     78000.0  Fully Paid  ...         0.0   \n",
      "1           RENT     78000.0     Current  ...         0.0   \n",
      "2       MORTGAGE     97000.0     Current  ...         0.0   \n",
      "3       MORTGAGE    115000.0  Fully Paid  ...         0.0   \n",
      "4            OWN     75000.0  Fully Paid  ...         0.0   \n",
      "\n",
      "   collection_recovery_fee  last_pymnt_amnt  collections_12_mths_ex_med  \\\n",
      "0                      0.0          6844.48                         0.0   \n",
      "1                      0.0           619.47                         0.0   \n",
      "2                      0.0           452.41                         0.0   \n",
      "3                      0.0         20015.91                         0.0   \n",
      "4                      0.0           478.99                         0.0   \n",
      "\n",
      "   application_type  acc_now_delinq  tot_coll_amt  tot_cur_bal  \\\n",
      "0        Individual             0.0           0.0     200412.0   \n",
      "1        Individual             0.0           0.0      39187.0   \n",
      "2        Individual             0.0           0.0     279688.0   \n",
      "3        Individual             0.0           0.0     172493.0   \n",
      "4        Individual             0.0           NaN          NaN   \n",
      "\n",
      "   total_rev_hi_lim  y  \n",
      "0           16800.0  0  \n",
      "1           42100.0  0  \n",
      "2            6500.0  0  \n",
      "3           40200.0  0  \n",
      "4               NaN  0  \n",
      "\n",
      "[5 rows x 34 columns]\n"
     ]
    }
   ],
   "source": [
    "print(test['loan_status'].unique())\n",
    "\n",
    "# Create new variable (y) takes the value = 1 if the column “loan status” has the value\n",
    "# “Charged Off” and 0 otherwise.\n",
    "test['y'] = (test['loan_status'] == 'Charged Off').astype(int)\n",
    "\n",
    "test.to_csv('testData_new.csv', index=False)\n",
    "\n",
    "new_test = pd.read_csv('testData_new.csv')\n",
    "\n",
    "print(new_test.head())"
   ]
  },
  {
   "cell_type": "code",
   "execution_count": 26,
   "id": "eda023e9-d79e-438e-a131-318164310c30",
   "metadata": {},
   "outputs": [
    {
     "name": "stdout",
     "output_type": "stream",
     "text": [
      "Features in train set with missing values: \n",
      "\n",
      "id                            226067\n",
      "member_id                     226067\n",
      "loan_amnt                          0\n",
      "int_rate                           0\n",
      "installment                        0\n",
      "grade                              0\n",
      "emp_length                     14799\n",
      "home_ownership                     0\n",
      "annual_inc                         1\n",
      "loan_status                        0\n",
      "dti                              174\n",
      "delinq_2yrs                        5\n",
      "inq_last_6mths                     6\n",
      "mths_since_last_delinq        115999\n",
      "open_acc                           5\n",
      "pub_rec                            5\n",
      "revol_bal                          0\n",
      "revol_util                       159\n",
      "total_acc                          5\n",
      "total_pymnt                        0\n",
      "total_pymnt_inv                    0\n",
      "total_rec_prncp                    0\n",
      "total_rec_int                      0\n",
      "total_rec_late_fee                 0\n",
      "recoveries                         0\n",
      "collection_recovery_fee            0\n",
      "last_pymnt_amnt                    0\n",
      "collections_12_mths_ex_med        22\n",
      "application_type                   0\n",
      "acc_now_delinq                     5\n",
      "tot_coll_amt                    7027\n",
      "tot_cur_bal                     7027\n",
      "total_rev_hi_lim                7027\n",
      "y                                  0\n",
      "dtype: int64\n"
     ]
    }
   ],
   "source": [
    "# checking the missing values\n",
    "misval_test = new_test.isnull().sum()\n",
    "print(\"Features in train set with missing values: \\n\")\n",
    "print(misval_test)"
   ]
  },
  {
   "cell_type": "code",
   "execution_count": 16,
   "id": "b517bc5a-13e4-4e8a-b837-a0cd747dd238",
   "metadata": {},
   "outputs": [
    {
     "name": "stdout",
     "output_type": "stream",
     "text": [
      "Categorical Columns:\n",
      "Index(['grade', 'emp_length', 'home_ownership', 'loan_status',\n",
      "       'application_type'],\n",
      "      dtype='object')\n"
     ]
    }
   ],
   "source": [
    "col_categorical2 = new_test.select_dtypes(include=['object']).columns\n",
    "print(\"Categorical Columns:\")\n",
    "print(col_categorical2)"
   ]
  },
  {
   "cell_type": "code",
   "execution_count": 28,
   "id": "5af28f29-3741-4846-bff1-aa5e7b9d5ed4",
   "metadata": {},
   "outputs": [
    {
     "name": "stdout",
     "output_type": "stream",
     "text": [
      "['A' 'C' 'D' 'B' 'E' 'G' 'F']\n",
      "['10+ years' '3 years' '5 years' '6 years' nan '1 year' '2 years'\n",
      " '4 years' '9 years' '7 years' '< 1 year' '8 years']\n",
      "['MORTGAGE' 'RENT' 'OWN' 'ANY' 'OTHER' 'NONE']\n",
      "['Individual' 'Joint App']\n"
     ]
    }
   ],
   "source": [
    "# Checking the values of grade column\n",
    "print(new_test['grade'].unique())\n",
    "# Checking the values of emp_length column\n",
    "print(new_test['emp_length'].unique())\n",
    "# Checking the values of home_ownership column\n",
    "print(new_test['home_ownership'].unique())\n",
    "# Checking the values of application_type column\n",
    "print(new_test['application_type'].unique())"
   ]
  },
  {
   "cell_type": "code",
   "execution_count": 17,
   "id": "326e1023-ec4e-4208-9929-2e5dc590d046",
   "metadata": {},
   "outputs": [],
   "source": [
    "# converting the values of grade\n",
    "from sklearn.preprocessing import LabelEncoder\n",
    "\n",
    "label_encoder = LabelEncoder()\n",
    "\n",
    "new_test['grade'] = label_encoder.fit_transform(new_test['grade'])"
   ]
  },
  {
   "cell_type": "code",
   "execution_count": 18,
   "id": "298f6686-3910-4150-a5b0-5eef9a6599d6",
   "metadata": {},
   "outputs": [],
   "source": [
    "# converting the values of home_ownership\n",
    "home_ownership_dummies = pd.get_dummies(new_test['home_ownership'], prefix='home_ownership')\n",
    "\n",
    "new_test= pd.concat([new_test, home_ownership_dummies], axis=1)\n",
    "\n",
    "new_test.drop('home_ownership', axis=1, inplace=True)"
   ]
  },
  {
   "cell_type": "code",
   "execution_count": 19,
   "id": "d3843eb1-d8d9-478e-a674-77a18f27c9e7",
   "metadata": {},
   "outputs": [],
   "source": [
    "# converting the values of application_type\n",
    "new_test['application_type'].replace({'Individual': 0, 'Joint App': 1}, inplace=True)"
   ]
  },
  {
   "cell_type": "code",
   "execution_count": 20,
   "id": "2798402f-4993-4290-94fd-6c8cc3e63220",
   "metadata": {},
   "outputs": [],
   "source": [
    "# converting the values of emp_length  \n",
    "emp_length_val = {\n",
    "    '< 1 year': 0,\n",
    "    '1 year': 1,\n",
    "    '2 years': 2,\n",
    "    '3 years': 3,\n",
    "    '4 years': 4,\n",
    "    '5 years': 5,\n",
    "    '6 years': 6,\n",
    "    '7 years': 7,\n",
    "    '8 years': 8,\n",
    "    '9 years': 9,\n",
    "    '10+ years': 10\n",
    "}\n",
    "new_test['emp_length'].replace(emp_length_val, inplace=True)"
   ]
  },
  {
   "cell_type": "code",
   "execution_count": 21,
   "id": "6c15058c-2d7b-4814-9499-413b6a83c7c2",
   "metadata": {},
   "outputs": [],
   "source": [
    "# Drop the unnecessary columns\n",
    "col_drop = ['id', 'member_id', 'mths_since_last_delinq', 'loan_status'] \n",
    "new_test.drop(col_drop, axis=1, inplace=True)"
   ]
  },
  {
   "cell_type": "code",
   "execution_count": 22,
   "id": "c6ee5884-a0b5-43e8-8980-2f338a5a370b",
   "metadata": {},
   "outputs": [],
   "source": [
    "# impute the missing values of emp_length\n",
    "median_of_emplength = new_test['emp_length'].median()\n",
    "new_test['emp_length'].fillna(median_of_emplength, inplace=True)"
   ]
  },
  {
   "cell_type": "code",
   "execution_count": 23,
   "id": "01f8dea5-6f8e-4e90-88e6-cbeea3b93cf7",
   "metadata": {},
   "outputs": [],
   "source": [
    "# Drop the rows with missing values\n",
    "col_misval = ['dti', 'delinq_2yrs', 'inq_last_6mths', 'open_acc', 'pub_rec',\n",
    "                               'revol_util', 'total_acc', 'collections_12_mths_ex_med',\n",
    "                               'acc_now_delinq', 'tot_coll_amt', 'tot_cur_bal', 'total_rev_hi_lim']\n",
    "\n",
    "new_test.dropna(subset=col_misval, inplace=True)"
   ]
  },
  {
   "cell_type": "code",
   "execution_count": 36,
   "id": "6b0da014-f2f2-4f4b-bd43-c5f25ecaf747",
   "metadata": {},
   "outputs": [
    {
     "name": "stdout",
     "output_type": "stream",
     "text": [
      "Features in train set with missing values: \n",
      "\n",
      "loan_amnt                     0\n",
      "int_rate                      0\n",
      "installment                   0\n",
      "grade                         0\n",
      "emp_length                    0\n",
      "annual_inc                    0\n",
      "dti                           0\n",
      "delinq_2yrs                   0\n",
      "inq_last_6mths                0\n",
      "open_acc                      0\n",
      "pub_rec                       0\n",
      "revol_bal                     0\n",
      "revol_util                    0\n",
      "total_acc                     0\n",
      "total_pymnt                   0\n",
      "total_pymnt_inv               0\n",
      "total_rec_prncp               0\n",
      "total_rec_int                 0\n",
      "total_rec_late_fee            0\n",
      "recoveries                    0\n",
      "collection_recovery_fee       0\n",
      "last_pymnt_amnt               0\n",
      "collections_12_mths_ex_med    0\n",
      "application_type              0\n",
      "acc_now_delinq                0\n",
      "tot_coll_amt                  0\n",
      "tot_cur_bal                   0\n",
      "total_rev_hi_lim              0\n",
      "y                             0\n",
      "home_ownership_ANY            0\n",
      "home_ownership_MORTGAGE       0\n",
      "home_ownership_NONE           0\n",
      "home_ownership_OTHER          0\n",
      "home_ownership_OWN            0\n",
      "home_ownership_RENT           0\n",
      "dtype: int64\n"
     ]
    }
   ],
   "source": [
    "# checking the missing values\n",
    "misval_test = new_test.isnull().sum()\n",
    "print(\"Features in train set with missing values: \\n\")\n",
    "print(misval_test)"
   ]
  },
  {
   "cell_type": "code",
   "execution_count": 24,
   "id": "b5ea9bd6-8b17-479b-949e-54be1b88eac7",
   "metadata": {},
   "outputs": [],
   "source": [
    "# Transform the data scale to be between 0,1 using min max scale\n",
    "from sklearn.preprocessing import MinMaxScaler\n",
    "scaler = MinMaxScaler()\n",
    "\n",
    "col_scale = new_test.columns\n",
    "\n",
    "new_test[col_scale] = scaler.fit_transform(new_test[col_scale])"
   ]
  },
  {
   "cell_type": "markdown",
   "id": "a7aef734-7f32-4c1c-8fd0-407f4cfa4065",
   "metadata": {},
   "source": [
    "### TASK 1.1 LINEAR REGRESSION MODEL"
   ]
  },
  {
   "cell_type": "code",
   "execution_count": 27,
   "id": "c18cc1f5-049f-4d3a-81a0-6e70a42655e7",
   "metadata": {
    "scrolled": true
   },
   "outputs": [
    {
     "name": "stdout",
     "output_type": "stream",
     "text": [
      "Intercept:  0.05646562386959683\n",
      "Coefficients:  [-2.70301904e-03 -3.69344725e-01  2.35005952e-01  5.00474770e-01\n",
      " -1.77845214e-03 -6.39870276e-01  1.69108595e-01 -1.03141259e-02\n",
      "  9.11765946e-02  9.66832417e-03  3.51528104e-01  6.43893238e-01\n",
      "  5.14251882e-02  1.38667529e-01  1.91213829e+04  1.13501969e+00\n",
      " -1.20846649e+04 -8.51723376e+03 -2.30837444e+02 -1.04872557e+04\n",
      " -1.12846448e+00 -7.94857765e-02 -3.67099396e-02 -8.55374498e-02\n",
      "  1.21227334e-01 -7.37280902e-02 -4.16011345e-01 -5.01396391e-01\n",
      " -6.94331365e-02 -2.29727703e-03  1.13575722e-01 -4.12859907e-02\n",
      " -6.32590318e-03  5.76521065e-03]\n",
      "MSE for train :  0.06684453679217027\n",
      "MSE for test :  3820.7121632033814\n"
     ]
    }
   ],
   "source": [
    "from sklearn.linear_model import LinearRegression\n",
    "from sklearn.metrics import mean_squared_error\n",
    "\n",
    "# Separating X and y for the training dataset.\n",
    "X_train = new_train.drop(['y'], axis=1)\n",
    "y_train = new_train['y']\n",
    "\n",
    "# Separating X and y for the testing dataset.\n",
    "X_test = new_test.drop(['y'], axis=1)\n",
    "y_test = new_test['y']\n",
    "\n",
    "# Building and training the Linear Regression Model.\n",
    "lr_model = LinearRegression()\n",
    "lr_model.fit(X_train, y_train)\n",
    "\n",
    "# Predictions on the training and test datasets.\n",
    "y_train_pred = lr_model.predict(X_train)\n",
    "y_test_pred = lr_model.predict(X_test)\n",
    "\n",
    "print('Intercept: ', lr_model.intercept_)\n",
    "print('Coefficients: ', lr_model.coef_)\n",
    "\n",
    "# Calculating the MSE\n",
    "mse_train = mean_squared_error(y_train, y_train_pred)\n",
    "mse_test = mean_squared_error(y_test, y_test_pred)\n",
    "print('MSE for train : ', mse_train)\n",
    "print('MSE for test : ', mse_test)\n",
    "#it doesnt predit correctly because the difference between train and test too much. \n",
    "#leads to overfitting model"
   ]
  },
  {
   "cell_type": "code",
   "execution_count": 28,
   "id": "0313007c-4df0-4597-805f-46076564e904",
   "metadata": {},
   "outputs": [
    {
     "name": "stdout",
     "output_type": "stream",
     "text": [
      "Feature: loan_amnt, Coefficient: -0.0027030190441148256\n",
      "Feature: int_rate, Coefficient: -0.3693447253999565\n",
      "Feature: installment, Coefficient: 0.23500595208680528\n",
      "Feature: grade, Coefficient: 0.500474769920597\n",
      "Feature: emp_length, Coefficient: -0.0017784521374250583\n",
      "Feature: annual_inc, Coefficient: -0.6398702764945451\n",
      "Feature: dti, Coefficient: 0.1691085946692258\n",
      "Feature: delinq_2yrs, Coefficient: -0.01031412588702834\n",
      "Feature: inq_last_6mths, Coefficient: 0.09117659458962185\n",
      "Feature: open_acc, Coefficient: 0.009668324172117026\n",
      "Feature: pub_rec, Coefficient: 0.35152810448414373\n",
      "Feature: revol_bal, Coefficient: 0.6438932379855716\n",
      "Feature: revol_util, Coefficient: 0.05142518815433828\n",
      "Feature: total_acc, Coefficient: 0.1386675289898812\n",
      "Feature: total_pymnt, Coefficient: 19121.38291030886\n",
      "Feature: total_pymnt_inv, Coefficient: 1.1350196886983877\n",
      "Feature: total_rec_prncp, Coefficient: -12084.664941643698\n",
      "Feature: total_rec_int, Coefficient: -8517.23375708005\n",
      "Feature: total_rec_late_fee, Coefficient: -230.8374444346175\n",
      "Feature: recoveries, Coefficient: -10487.255728325112\n",
      "Feature: collection_recovery_fee, Coefficient: -1.1284644807422226\n",
      "Feature: last_pymnt_amnt, Coefficient: -0.07948577646326103\n",
      "Feature: collections_12_mths_ex_med, Coefficient: -0.03670993961402787\n",
      "Feature: application_type, Coefficient: -0.08553744976582194\n",
      "Feature: acc_now_delinq, Coefficient: 0.12122733447605068\n",
      "Feature: tot_coll_amt, Coefficient: -0.07372809019094578\n",
      "Feature: tot_cur_bal, Coefficient: -0.41601134513897153\n",
      "Feature: total_rev_hi_lim, Coefficient: -0.5013963909386767\n",
      "Feature: home_ownership_ANY, Coefficient: -0.06943313646555527\n",
      "Feature: home_ownership_MORTGAGE, Coefficient: -0.002297277029218708\n",
      "Feature: home_ownership_NONE, Coefficient: 0.11357572242187\n",
      "Feature: home_ownership_OTHER, Coefficient: -0.041285990728851626\n",
      "Feature: home_ownership_OWN, Coefficient: -0.006325903182690045\n",
      "Feature: home_ownership_RENT, Coefficient: 0.0057652106494350056\n"
     ]
    }
   ],
   "source": [
    "# coefficients and corresponding feature names\n",
    "for feature, coef in zip(X_train.columns, lr_model.coef_):\n",
    "    print(\"Feature: {}, Coefficient: {}\".format(feature, coef))\n"
   ]
  },
  {
   "cell_type": "code",
   "execution_count": 31,
   "id": "ca07325d-0447-4f6f-8ee9-c7e731549465",
   "metadata": {},
   "outputs": [
    {
     "name": "stdout",
     "output_type": "stream",
     "text": [
      "The most 10 correlated variables with the outcome:\n",
      "                  Predictor   Correlation\n",
      "14              total_pymnt  19121.382910\n",
      "16          total_rec_prncp  12084.664942\n",
      "19               recoveries  10487.255728\n",
      "17            total_rec_int   8517.233757\n",
      "18       total_rec_late_fee    230.837444\n",
      "15          total_pymnt_inv      1.135020\n",
      "20  collection_recovery_fee      1.128464\n",
      "11                revol_bal      0.643893\n",
      "5                annual_inc      0.639870\n",
      "27         total_rev_hi_lim      0.501396\n",
      "\n",
      "The least 10 correlated variables with the outcome:\n",
      "                     Predictor  Correlation\n",
      "12                  revol_util     0.051425\n",
      "31        home_ownership_OTHER     0.041286\n",
      "22  collections_12_mths_ex_med     0.036710\n",
      "7                  delinq_2yrs     0.010314\n",
      "9                     open_acc     0.009668\n",
      "32          home_ownership_OWN     0.006326\n",
      "33         home_ownership_RENT     0.005765\n",
      "0                    loan_amnt     0.002703\n",
      "29     home_ownership_MORTGAGE     0.002297\n",
      "4                   emp_length     0.001778\n"
     ]
    }
   ],
   "source": [
    "# First, accurately capturing the coefficients of your model.\n",
    "coefficients = lr_model.coef_\n",
    "\n",
    "# Calculating the correlation coefficients.\n",
    "correlation_coeffs = np.abs(coefficients)\n",
    "\n",
    "# DataFrame \n",
    "correlation_df = pd.DataFrame({'Predictor': X_train.columns, 'Correlation': correlation_coeffs})\n",
    "\n",
    "# Sorting the DataFrame by correlation coefficients.\n",
    "correlation_df = correlation_df.sort_values(by='Correlation', ascending=False)\n",
    "\n",
    "# Printing the first and last 10 \n",
    "print(\"The most 10 correlated variables with the outcome:\")\n",
    "print(correlation_df.head(10))\n",
    "print(\"\\nThe least 10 correlated variables with the outcome:\")\n",
    "print(correlation_df.tail(10))\n"
   ]
  },
  {
   "cell_type": "markdown",
   "id": "357ee5a2-5e8e-4c49-8e93-751053a89660",
   "metadata": {},
   "source": [
    "### TASK 1.2 RIDGE REGRESSION MODEL"
   ]
  },
  {
   "cell_type": "code",
   "execution_count": 39,
   "id": "d0911e28-e0a9-47a7-8f4c-2b1fdb12fec7",
   "metadata": {},
   "outputs": [
    {
     "name": "stdout",
     "output_type": "stream",
     "text": [
      "Best Lambda for Training: 0.01, Least MSE (Training): 0.06684480261342572\n",
      "Best Lambda for Test: 0.01, Least MSE (Test): 0.0678161998998616\n",
      "Intercept: 0.05648317321984572\n",
      "Coefficients: [-2.70993908e-03 -3.69327740e-01  2.35036675e-01  5.00471055e-01\n",
      " -1.78017849e-03 -6.39154309e-01  1.69124653e-01 -1.02491502e-02\n",
      "  9.11848635e-02  9.62398488e-03  3.51473780e-01  6.41484168e-01\n",
      "  5.14801088e-02  1.38684234e-01  1.64399624e+00  1.23360101e+00\n",
      " -2.14776858e+00 -1.32462449e+00  1.19802421e+00  6.51621846e+00\n",
      " -1.11676132e+00 -7.95231007e-02 -3.67561642e-02 -8.55450542e-02\n",
      "  1.21214093e-01 -7.30422081e-02 -4.15904536e-01 -5.00315641e-01\n",
      " -6.94177629e-02 -2.34117278e-03  1.13612739e-01 -4.12002861e-02\n",
      " -6.37565465e-03  5.72213924e-03]\n"
     ]
    }
   ],
   "source": [
    "import numpy as np\n",
    "from sklearn.linear_model import Ridge\n",
    "from sklearn.metrics import mean_squared_error\n",
    "\n",
    "# Assume X, Y, X_train, y_train, X_test, y_test are defined\n",
    "\n",
    "# Lambda values range\n",
    "lambda_values = np.arange(0.01, 10, 0.01)\n",
    "\n",
    "# Initialize to find best model with least MSE for training and test sets\n",
    "least_mse_train = float('inf')\n",
    "best_lambda_train = None\n",
    "least_mse_test = float('inf')\n",
    "best_lambda_test = None\n",
    "\n",
    "# Fit Ridge regularization method for each lambda value\n",
    "for value in lambda_values:\n",
    "    ridge_model = Ridge(alpha=value)\n",
    "    ridge_model.fit(X_train, y_train)  # Train on the training set\n",
    "    \n",
    "    # Predict on both training and test sets\n",
    "    y_train_pred = ridge_model.predict(X_train)\n",
    "    y_test_pred = ridge_model.predict(X_test)\n",
    "    \n",
    "    # Calculate MSE for both\n",
    "    mse_train = mean_squared_error(y_train, y_train_pred)\n",
    "    mse_test = mean_squared_error(y_test, y_test_pred)\n",
    "    \n",
    "    # Update best lambda and MSE for training set\n",
    "    if mse_train < least_mse_train:\n",
    "        least_mse_train = mse_train\n",
    "        best_lambda_train = value\n",
    "    \n",
    "    # Update best lambda and MSE for test set\n",
    "    if mse_test < least_mse_test:\n",
    "        least_mse_test = mse_test\n",
    "        best_lambda_test = value\n",
    "\n",
    "# Fit the best model from training on the entire training set\n",
    "best_model_ridge = Ridge(alpha=best_lambda_train)\n",
    "best_model_ridge.fit(X_train, y_train)\n",
    "\n",
    "# Print the best lambda and MSE for training and test sets\n",
    "print(f\"Best Lambda for Training: {best_lambda_train}, Least MSE (Training): {least_mse_train}\")\n",
    "print(f\"Best Lambda for Test: {best_lambda_test}, Least MSE (Test): {least_mse_test}\")\n",
    "\n",
    "# Print coefficients and intercept of the best model\n",
    "print(\"Intercept:\", best_model_ridge.intercept_)\n",
    "print(\"Coefficients:\", best_model_ridge.coef_)\n"
   ]
  },
  {
   "cell_type": "code",
   "execution_count": 40,
   "id": "e02f47a7-77cc-4534-abb1-8b5ecccd22ed",
   "metadata": {},
   "outputs": [
    {
     "name": "stdout",
     "output_type": "stream",
     "text": [
      "Feature: loan_amnt, Coefficient: -0.0023493966910178962\n",
      "Feature: int_rate, Coefficient: -0.35925777473027837\n",
      "Feature: installment, Coefficient: 0.24131679643603565\n",
      "Feature: grade, Coefficient: 0.5002404277480422\n",
      "Feature: emp_length, Coefficient: -0.0019003086056910029\n",
      "Feature: annual_inc, Coefficient: -0.399619572236965\n",
      "Feature: dti, Coefficient: 0.14761309992573768\n",
      "Feature: delinq_2yrs, Coefficient: -0.006520616781292878\n",
      "Feature: inq_last_6mths, Coefficient: 0.09392616824640164\n",
      "Feature: open_acc, Coefficient: -0.005357904457112742\n",
      "Feature: pub_rec, Coefficient: 0.2677220433841789\n",
      "Feature: revol_bal, Coefficient: 0.08695526131220288\n",
      "Feature: revol_util, Coefficient: 0.06252482808653355\n",
      "Feature: total_acc, Coefficient: 0.1389174165200382\n",
      "Feature: total_pymnt, Coefficient: 0.7347282172013607\n",
      "Feature: total_pymnt_inv, Coefficient: 0.7360384894872253\n",
      "Feature: total_rec_prncp, Coefficient: -1.2682041007868143\n",
      "Feature: total_rec_int, Coefficient: -0.6923718646757717\n",
      "Feature: total_rec_late_fee, Coefficient: 1.0094012453638617\n",
      "Feature: recoveries, Coefficient: 3.3384316089862276\n",
      "Feature: collection_recovery_fee, Coefficient: 1.8112925652925485\n",
      "Feature: last_pymnt_amnt, Coefficient: -0.08223593039041668\n",
      "Feature: collections_12_mths_ex_med, Coefficient: -0.033355316729391585\n",
      "Feature: application_type, Coefficient: -0.08750528542491227\n",
      "Feature: acc_now_delinq, Coefficient: 0.10649614706520448\n",
      "Feature: tot_coll_amt, Coefficient: -0.007078341116098167\n",
      "Feature: tot_cur_bal, Coefficient: -0.3371104531570056\n",
      "Feature: total_rev_hi_lim, Coefficient: -0.25464869156593767\n",
      "Feature: home_ownership_ANY, Coefficient: -0.05857116531809036\n",
      "Feature: home_ownership_MORTGAGE, Coefficient: 0.004057562305869119\n",
      "Feature: home_ownership_NONE, Coefficient: 0.051070287725545095\n",
      "Feature: home_ownership_OTHER, Coefficient: -0.010295596667573481\n",
      "Feature: home_ownership_OWN, Coefficient: 0.00043440193621745133\n",
      "Feature: home_ownership_RENT, Coefficient: 0.013304510020206581\n"
     ]
    }
   ],
   "source": [
    "# Ridge Regresyon modelinin katsayıları ve karşılık gelen öznitelik isimleri\n",
    "for feature, coef in zip(X_train.columns, ridge_model.coef_):\n",
    "    print(\"Feature: {}, Coefficient: {}\".format(feature, coef))\n"
   ]
  },
  {
   "cell_type": "code",
   "execution_count": 43,
   "id": "a133f7ec-d88c-4758-bbee-dbac3e565b21",
   "metadata": {},
   "outputs": [
    {
     "name": "stdout",
     "output_type": "stream",
     "text": [
      "The most 10 correlated variables with the outcome loan status (y):\n",
      "                  Predictor  Correlation\n",
      "19               recoveries     6.516218\n",
      "16          total_rec_prncp     2.147769\n",
      "14              total_pymnt     1.643996\n",
      "17            total_rec_int     1.324624\n",
      "15          total_pymnt_inv     1.233601\n",
      "18       total_rec_late_fee     1.198024\n",
      "20  collection_recovery_fee     1.116761\n",
      "11                revol_bal     0.641484\n",
      "5                annual_inc     0.639154\n",
      "3                     grade     0.500471\n",
      "\n",
      "The least 10 correlated variables with the outcome loan status (y):\n",
      "                     Predictor  Correlation\n",
      "12                  revol_util     0.051480\n",
      "31        home_ownership_OTHER     0.041200\n",
      "22  collections_12_mths_ex_med     0.036756\n",
      "7                  delinq_2yrs     0.010249\n",
      "9                     open_acc     0.009624\n",
      "32          home_ownership_OWN     0.006376\n",
      "33         home_ownership_RENT     0.005722\n",
      "0                    loan_amnt     0.002710\n",
      "29     home_ownership_MORTGAGE     0.002341\n",
      "4                   emp_length     0.001780\n"
     ]
    }
   ],
   "source": [
    "coefficients = best_model_ridge.coef_ # from the model above\n",
    "\n",
    "# correlation between each predictor variable and the outcome variable using the coefficients\n",
    "correlation_coeffs = np.abs(coefficients)\n",
    "\n",
    "# Create a DataFrame for correlation coefficients with the feature names\n",
    "correlation_df = pd.DataFrame({'Predictor': X_train.columns, 'Correlation': correlation_coeffs})\n",
    "\n",
    "# Sort the DataFrame by correlation coefficients\n",
    "correlation_df = correlation_df.sort_values(by='Correlation', ascending=False)\n",
    "\n",
    "# Display the top 10 most and least correlated variables\n",
    "print(\"The most 10 correlated variables with the outcome loan status (y):\")\n",
    "print(correlation_df.head(10))\n",
    "\n",
    "print(\"\\nThe least 10 correlated variables with the outcome loan status (y):\")\n",
    "print(correlation_df.tail(10))"
   ]
  },
  {
   "cell_type": "markdown",
   "id": "1b478712-89c5-40be-bb58-858a728b2356",
   "metadata": {},
   "source": [
    "### TASK 1.3 LASSO REGRESSION MODEL"
   ]
  },
  {
   "cell_type": "code",
   "execution_count": 33,
   "id": "563f8b71-edde-4064-948e-a45e4568aac5",
   "metadata": {},
   "outputs": [
    {
     "name": "stdout",
     "output_type": "stream",
     "text": [
      "Best Lambda (Training): 0.01, Least MSE (Training): 0.0962356709954133\n",
      "Best Lambda (Testing): 0.01, Least MSE (Testing): 0.09666228953121521\n",
      "Intercept: 0.10524940904480896\n",
      "Coefficients: [ 0.          0.          0.          0.1132786  -0.         -0.\n",
      "  0.          0.          0.          0.          0.         -0.\n",
      "  0.          0.         -0.         -0.         -0.09591185  0.\n",
      "  0.          0.          0.         -0.          0.         -0.\n",
      "  0.         -0.         -0.         -0.         -0.         -0.\n",
      "  0.         -0.         -0.          0.        ]\n",
      "Mean Squared Error (Test): 0.09666228953121521\n"
     ]
    }
   ],
   "source": [
    "import numpy as np\n",
    "from sklearn.linear_model import Lasso\n",
    "from sklearn.metrics import mean_squared_error\n",
    "\n",
    "# Assume X, Y, X_train, y_train, X_test, y_test are defined, along with the import of necessary libraries\n",
    "\n",
    "# Range of lambda values\n",
    "lambda_values = np.arange(0.01, 10, 0.01)\n",
    "\n",
    "# Variables to store the best model parameters and MSE for both training and testing\n",
    "best_lambda_train = None\n",
    "least_mse_train = float('inf')\n",
    "best_lambda_test = None\n",
    "least_mse_test = float('inf')\n",
    "\n",
    "# Fit Lasso regularization for each lambda value\n",
    "for value in lambda_values:\n",
    "    lasso_model = Lasso(alpha=value, max_iter=10000)  # Ensure convergence with higher max_iter\n",
    "    lasso_model.fit(X_train, y_train)  # Fit using the training data\n",
    "    \n",
    "    # Predict on both the training and testing datasets\n",
    "    y_train_pred = lasso_model.predict(X_train)\n",
    "    y_test_pred = lasso_model.predict(X_test)\n",
    "    \n",
    "    # Calculate MSE for training and testing datasets\n",
    "    mse_train = mean_squared_error(y_train, y_train_pred)\n",
    "    mse_test = mean_squared_error(y_test, y_test_pred)\n",
    "    \n",
    "    # Update the best lambda and MSE based on training dataset performance\n",
    "    if mse_train < least_mse_train:\n",
    "        least_mse_train = mse_train\n",
    "        best_lambda_train = value\n",
    "        \n",
    "    # Optionally, update based on testing dataset (demonstrated but may not be necessary for model selection)\n",
    "    if mse_test < least_mse_test:\n",
    "        least_mse_test = mse_test\n",
    "        best_lambda_test = value\n",
    "\n",
    "# Re-fit the best model based on training data\n",
    "best_model_lasso = Lasso(alpha=best_lambda_train, max_iter=10000)\n",
    "best_model_lasso.fit(X_train, y_train)\n",
    "\n",
    "# Display the best lambda values and MSEs\n",
    "print(f\"Best Lambda (Training): {best_lambda_train}, Least MSE (Training): {least_mse_train}\")\n",
    "print(f\"Best Lambda (Testing): {best_lambda_test}, Least MSE (Testing): {least_mse_test}\")\n",
    "\n",
    "# Coefficients of the best model\n",
    "print(\"Intercept:\", best_model_lasso.intercept_)\n",
    "print(\"Coefficients:\", best_model_lasso.coef_)\n",
    "\n",
    "# Predict on the test dataset using the best model\n",
    "y_pred_test = best_model_lasso.predict(X_test)\n",
    "\n",
    "# Calculate and display MSE for the test data\n",
    "mse_test_final = mean_squared_error(y_test, y_pred_test)\n",
    "print(\"Mean Squared Error (Test):\", mse_test_final)\n"
   ]
  },
  {
   "cell_type": "code",
   "execution_count": 35,
   "id": "42fe2c55-5c48-4dfa-88c3-b22fcdb86945",
   "metadata": {},
   "outputs": [
    {
     "name": "stdout",
     "output_type": "stream",
     "text": [
      "Feature: loan_amnt, Coefficient: 0.0\n",
      "Feature: int_rate, Coefficient: 0.0\n",
      "Feature: installment, Coefficient: 0.0\n",
      "Feature: grade, Coefficient: 0.11327860483568705\n",
      "Feature: emp_length, Coefficient: -0.0\n",
      "Feature: annual_inc, Coefficient: -0.0\n",
      "Feature: dti, Coefficient: 0.0\n",
      "Feature: delinq_2yrs, Coefficient: 0.0\n",
      "Feature: inq_last_6mths, Coefficient: 0.0\n",
      "Feature: open_acc, Coefficient: 0.0\n",
      "Feature: pub_rec, Coefficient: 0.0\n",
      "Feature: revol_bal, Coefficient: -0.0\n",
      "Feature: revol_util, Coefficient: 0.0\n",
      "Feature: total_acc, Coefficient: 0.0\n",
      "Feature: total_pymnt, Coefficient: -0.0\n",
      "Feature: total_pymnt_inv, Coefficient: -0.0\n",
      "Feature: total_rec_prncp, Coefficient: -0.09591185451799784\n",
      "Feature: total_rec_int, Coefficient: 0.0\n",
      "Feature: total_rec_late_fee, Coefficient: 0.0\n",
      "Feature: recoveries, Coefficient: 0.0\n",
      "Feature: collection_recovery_fee, Coefficient: 0.0\n",
      "Feature: last_pymnt_amnt, Coefficient: -0.0\n",
      "Feature: collections_12_mths_ex_med, Coefficient: 0.0\n",
      "Feature: application_type, Coefficient: -0.0\n",
      "Feature: acc_now_delinq, Coefficient: 0.0\n",
      "Feature: tot_coll_amt, Coefficient: -0.0\n",
      "Feature: tot_cur_bal, Coefficient: -0.0\n",
      "Feature: total_rev_hi_lim, Coefficient: -0.0\n",
      "Feature: home_ownership_ANY, Coefficient: -0.0\n",
      "Feature: home_ownership_MORTGAGE, Coefficient: -0.0\n",
      "Feature: home_ownership_NONE, Coefficient: 0.0\n",
      "Feature: home_ownership_OTHER, Coefficient: -0.0\n",
      "Feature: home_ownership_OWN, Coefficient: -0.0\n",
      "Feature: home_ownership_RENT, Coefficient: 0.0\n"
     ]
    }
   ],
   "source": [
    "# coefficients and corresponding feature names\n",
    "for feature, coef in zip(X_train.columns, best_model_lasso.coef_):\n",
    "    print(\"Feature: {}, Coefficient: {}\".format(feature, coef))"
   ]
  },
  {
   "cell_type": "code",
   "execution_count": 44,
   "id": "fc1cea61-dd33-496b-8a49-8aada4065cf2",
   "metadata": {},
   "outputs": [
    {
     "name": "stdout",
     "output_type": "stream",
     "text": [
      "The most 10 correlated variables with the outcome loan status (y):\n",
      "                     Predictor  Correlation\n",
      "3                        grade     0.113279\n",
      "16             total_rec_prncp     0.095912\n",
      "0                    loan_amnt     0.000000\n",
      "25                tot_coll_amt     0.000000\n",
      "20     collection_recovery_fee     0.000000\n",
      "21             last_pymnt_amnt     0.000000\n",
      "22  collections_12_mths_ex_med     0.000000\n",
      "23            application_type     0.000000\n",
      "24              acc_now_delinq     0.000000\n",
      "26                 tot_cur_bal     0.000000\n",
      "\n",
      "The least 10 correlated variables with the outcome loan status (y):\n",
      "              Predictor  Correlation\n",
      "11            revol_bal          0.0\n",
      "10              pub_rec          0.0\n",
      "9              open_acc          0.0\n",
      "8        inq_last_6mths          0.0\n",
      "7           delinq_2yrs          0.0\n",
      "6                   dti          0.0\n",
      "5            annual_inc          0.0\n",
      "4            emp_length          0.0\n",
      "2           installment          0.0\n",
      "33  home_ownership_RENT          0.0\n"
     ]
    }
   ],
   "source": [
    "coefficients = best_model_lasso.coef_ # from the model above\n",
    "\n",
    "# correlation between each predictor variable and the outcome variable using the coefficients\n",
    "correlation_coeffs = np.abs(coefficients)\n",
    "\n",
    "# Create a DataFrame for correlation coefficients with the feature names\n",
    "correlation_df = pd.DataFrame({'Predictor': X_train.columns, 'Correlation': correlation_coeffs})\n",
    "\n",
    "# Sort the DataFrame by correlation coefficients\n",
    "correlation_df = correlation_df.sort_values(by='Correlation', ascending=False)\n",
    "\n",
    "# Display the top 10 most and least correlated variables\n",
    "print(\"The most 10 correlated variables with the outcome loan status (y):\")\n",
    "print(correlation_df.head(10))\n",
    "\n",
    "print(\"\\nThe least 10 correlated variables with the outcome loan status (y):\")\n",
    "print(correlation_df.tail(10))\n"
   ]
  },
  {
   "cell_type": "markdown",
   "id": "2cf5fcba-4e0a-4d77-b7f8-ff95f06166a2",
   "metadata": {},
   "source": [
    "### TASK 1.4 RANDOM FOREST MODEL"
   ]
  },
  {
   "cell_type": "code",
   "execution_count": 58,
   "id": "9565e4fa-6164-410b-9f13-a484c38947ed",
   "metadata": {},
   "outputs": [
    {
     "name": "stdout",
     "output_type": "stream",
     "text": [
      "Best Random Forest Model:\n",
      "Number of trees in the forest (n_estimators): 50\n",
      "Maximum depth of the best tree (max_depth): None (Unlimited)\n",
      "Mean Squared Error for the 50 trees model on training data for Random Forest: 0.0029506925765310794\n",
      "Mean Squared Error for the 50 trees model on test data for Random Forest: 0.022697161667885886\n"
     ]
    }
   ],
   "source": [
    "# Define hyperparameters\n",
    "# Number of the trees in the forest\n",
    "n_estimators = 50 \n",
    "# Maximum depth of the tree\n",
    "max_depth_values = [None, 5]\n",
    "\n",
    "# Initialize variables for the best model and hyperparameters\n",
    "best_model_RF_50 = None\n",
    "best_mse_train_RF_50 = float('inf')\n",
    "best_max_depth_RF_50 = None\n",
    "\n",
    "# Fit RandomForest models with iteration over the above lists of hyperparameters\n",
    "for max_depth in max_depth_values:\n",
    "    # Fit the model\n",
    "    RF_model = RandomForestRegressor(n_estimators=n_estimators, max_depth=max_depth, random_state=42)\n",
    "    RF_model.fit(X_train, y_train)\n",
    "    \n",
    "    # Make predictions for training data\n",
    "    y_pred_RF_train = RF_model.predict(X_train)\n",
    "    \n",
    "    # Calculate MSE for training data\n",
    "    mse_train_RF_50 = mean_squared_error(y_train, y_pred_RF_train)\n",
    "    \n",
    "    # Find MSE for the best model and then update the values\n",
    "    if mse_train_RF_50 < best_mse_train_RF_50:\n",
    "        best_mse_train_RF_50 = mse_train_RF_50\n",
    "        best_model_RF_50 = RF_model\n",
    "        best_max_depth_RF_50 = max_depth\n",
    "\n",
    "# Print the MSE for the best model with its corresponding hyperparameters\n",
    "print(\"Best Random Forest Model:\")\n",
    "print(\"Number of trees in the forest (n_estimators):\", n_estimators)\n",
    "if best_max_depth_RF_50 is None:\n",
    "    print(\"Maximum depth of the best tree (max_depth): None (Unlimited)\")\n",
    "else:\n",
    "    print(\"Maximum depth of the best tree (max_depth):\", best_max_depth_RF_50)\n",
    "print(\"Mean Squared Error for the 50 trees model on training data for Random Forest:\", best_mse_train_RF_50)\n",
    "\n",
    "# Predict y (outcome of loan status) for the test data using the best Best Random Forest Model of 50 trees\n",
    "\n",
    "# Use the trained model\n",
    "y_pred_RF_test = best_model_RF_50.predict(X_test)\n",
    "\n",
    "# Calculate MSE for the test data\n",
    "mse_test_RF = mean_squared_error(y_test, y_pred_RF_test)\n",
    "\n",
    "print(\"Mean Squared Error for the 50 trees model on test data for Random Forest:\", mse_test_RF)"
   ]
  },
  {
   "cell_type": "code",
   "execution_count": 66,
   "id": "c68631cc-57eb-467d-889c-51f3666f701a",
   "metadata": {},
   "outputs": [
    {
     "name": "stdout",
     "output_type": "stream",
     "text": [
      "Best Random Forest Model:\n",
      "Number of trees in the forest (n_estimators): 100\n",
      "Maximum depth of the best tree (max_depth): None (Unlimited)\n",
      "Mean Squared Error for the 100 tree model on training data for Random Forest: 0.0027779327002250644\n",
      "Mean Squared Error for the 100 trees model on test data for Random Forest: 0.022310210314557426\n"
     ]
    }
   ],
   "source": [
    "from sklearn.ensemble import RandomForestRegressor\n",
    "\n",
    "# Define hyperparameters\n",
    "# Number of the trees in the forest\n",
    "n_estimators = 100  \n",
    "# Maximum depth of the tree\n",
    "max_depth_values = [None, 5]\n",
    "\n",
    "# Initialize variables for the best model and hyperparameters\n",
    "best_model_RF_100 = None\n",
    "best_mse_train_RF_100 = float('inf')\n",
    "best_max_depth_RF_100 = None\n",
    "\n",
    "# Fit RandomForest models with iteration over the above lists of hyperparameters\n",
    "for max_depth in max_depth_values:\n",
    "    # Fit the model\n",
    "    RF_model = RandomForestRegressor(n_estimators=n_estimators, max_depth=max_depth, random_state=42)\n",
    "    RF_model.fit(X_train, y_train)\n",
    "    \n",
    "    # Make predictions for training data\n",
    "    y_pred_RF_train = RF_model.predict(X_train)\n",
    "    \n",
    "    # Calculate MSE for training data\n",
    "    mse_train_RF_100 = mean_squared_error(y_train, y_pred_RF_train)\n",
    "    \n",
    "    # Find MSE for the best model and then update the values\n",
    "    if mse_train_RF_100 < best_mse_train_RF_100:\n",
    "        best_mse_train_RF_100 = mse_train_RF_100\n",
    "        best_model_RF_100 = RF_model\n",
    "        best_max_depth_RF_100 = max_depth\n",
    "\n",
    "# Print the MSE for the best model with its corresponding hyperparameters\n",
    "print(\"Best Random Forest Model:\")\n",
    "print(\"Number of trees in the forest (n_estimators):\", n_estimators)\n",
    "if best_max_depth_RF_100 is None:\n",
    "    print(\"Maximum depth of the best tree (max_depth): None (Unlimited)\")\n",
    "else:\n",
    "    print(\"Maximum depth of the best tree (max_depth):\", best_max_depth_RF_100)\n",
    "print(\"Mean Squared Error for the 100 tree model on training data for Random Forest:\", best_mse_train_RF_100)\n",
    "\n",
    "# Predict y (outcome of loan status) for the test data using the best Best Random Forest Model of 100 trees\n",
    "\n",
    "# Use the trained model\n",
    "y_pred_RF_test = best_model_RF_100.predict(X_test)\n",
    "\n",
    "# Calculate MSE for the test data\n",
    "mse_test_RF = mean_squared_error(y_test, y_pred_RF_test)\n",
    "\n",
    "print(\"Mean Squared Error for the 100 trees model on test data for Random Forest:\", mse_test_RF)"
   ]
  },
  {
   "cell_type": "code",
   "execution_count": null,
   "id": "5f37a801-7a0b-4991-a69c-73849de59778",
   "metadata": {},
   "outputs": [],
   "source": [
    "from sklearn.ensemble import RandomForestRegressor\n",
    "\n",
    "# Define hyperparameters\n",
    "# Number of the trees in the forest\n",
    "n_estimators = 150  \n",
    "# Maximum depth of the tree\n",
    "max_depth_values = [None, 5]\n",
    "\n",
    "# Initialize variables for the best model and hyperparameters\n",
    "best_model_RF_150 = None\n",
    "best_mse_train_RF_150 = float('inf')\n",
    "best_max_depth_RF_150 = None\n",
    "\n",
    "# Fit RandomForest models with iteration over the above lists of hyperparameters\n",
    "for max_depth in max_depth_values:\n",
    "    # Fit the model\n",
    "    RF_model = RandomForestRegressor(n_estimators=n_estimators, max_depth=max_depth, random_state=42)\n",
    "    RF_model.fit(X, Y)\n",
    "    \n",
    "    # Make predictions for training data\n",
    "    y_pred_RF_train = RF_model.predict(X)\n",
    "    \n",
    "    # Calculate MSE for training data\n",
    "    mse_train_RF_150 = mean_squared_error(Y, y_pred_RF_train)\n",
    "    \n",
    "    # Find MSE for the best model and then update the values\n",
    "    if mse_train_RF_150 < best_mse_train_RF_150:\n",
    "        best_mse_train_RF_150 = mse_train_RF_150\n",
    "        best_model_RF_150 = RF_model\n",
    "        best_max_depth_RF_150 = max_depth\n",
    "\n",
    "# Print the MSE for the best model with its corresponding hyperparameters\n",
    "print(\"Best Random Forest Model:\")\n",
    "print(\"Number of trees in the forest (n_estimators):\", n_estimators)\n",
    "if best_max_depth_RF_150 is None:\n",
    "    print(\"Maximum depth of the best tree (max_depth): None (Unlimited)\")\n",
    "else:\n",
    "    print(\"Maximum depth of the best tree (max_depth):\", best_max_depth_RF_150)\n",
    "print(\"Mean Squared Error for the 150 trees model on training data for Random Forest:\", best_mse_train_RF_150)\n",
    "\n",
    "# Print the MSE for the best model with its corresponding hyperparameters\n",
    "print(\"Best Random Forest Model:\")\n",
    "print(\"Number of trees in the forest (n_estimators):\", n_estimators)\n",
    "if best_max_depth_RF_150 is None:\n",
    "    print(\"Maximum depth of the best tree (max_depth): None (Unlimited)\")\n",
    "else:\n",
    "    print(\"Maximum depth of the best tree (max_depth):\", best_max_depth_RF_150)\n",
    "print(\"Mean Squared Error for the 150 trees model on training data for Random Forest:\", best_mse_train_RF_150)"
   ]
  },
  {
   "cell_type": "code",
   "execution_count": 67,
   "id": "981cbaf4-93c5-4a86-85ad-1090b4b79650",
   "metadata": {},
   "outputs": [
    {
     "name": "stdout",
     "output_type": "stream",
     "text": [
      "Feature Importances:\n",
      "collection_recovery_fee: Importance = 0.0\n",
      "home_ownership_NONE: Importance = 0.0\n",
      "home_ownership_OTHER: Importance = 0.0\n",
      "home_ownership_ANY: Importance = 3.848708657318528e-06\n",
      "acc_now_delinq: Importance = 0.00042366612503744536\n",
      "collections_12_mths_ex_med: Importance = 0.0006526665219417741\n",
      "home_ownership_MORTGAGE: Importance = 0.001012637689015372\n",
      "application_type: Importance = 0.0010222652967154888\n",
      "home_ownership_OWN: Importance = 0.0010355616699411953\n",
      "home_ownership_RENT: Importance = 0.0011373110528055284\n",
      "delinq_2yrs: Importance = 0.0026606567732006094\n",
      "pub_rec: Importance = 0.003034132562961385\n",
      "inq_last_6mths: Importance = 0.004380210394171059\n",
      "tot_coll_amt: Importance = 0.004569224142866538\n",
      "emp_length: Importance = 0.005190951844875577\n",
      "total_rec_late_fee: Importance = 0.005605799320943303\n",
      "open_acc: Importance = 0.008214199828856017\n",
      "total_acc: Importance = 0.010154368553098836\n",
      "total_rev_hi_lim: Importance = 0.011550466284197394\n",
      "revol_bal: Importance = 0.01164506273979478\n",
      "annual_inc: Importance = 0.012032986100267842\n",
      "grade: Importance = 0.012325828867518061\n",
      "revol_util: Importance = 0.013586487866298281\n",
      "dti: Importance = 0.013928609526470556\n",
      "tot_cur_bal: Importance = 0.014264710817514237\n",
      "loan_amnt: Importance = 0.015079173270080327\n",
      "total_rec_int: Importance = 0.016798156702862225\n",
      "total_pymnt: Importance = 0.017447142749435117\n",
      "total_pymnt_inv: Importance = 0.017582476832002293\n",
      "last_pymnt_amnt: Importance = 0.02394452212713065\n",
      "total_rec_prncp: Importance = 0.03757506776713817\n",
      "installment: Importance = 0.0378821903449299\n",
      "int_rate: Importance = 0.052233899027178295\n",
      "recoveries: Importance = 0.6430257184920943\n"
     ]
    }
   ],
   "source": [
    "# variable_list extracted in the linear regression model above\n",
    "\n",
    "# Find the variables (predictors) importances from the best Random Forest model above at 100 trees\n",
    "feature_importances = best_model_RF_100.feature_importances_\n",
    "\n",
    "# Print feature importances with corresponding feature names\n",
    "print(\"Feature Importances:\")\n",
    "\n",
    "# I use the sort function to see the most and least important features in prediction\n",
    "for feature_name, importance in sorted(zip(X_train, feature_importances), key=lambda x: x[1]):\n",
    "    print(f\"{feature_name}: Importance = {importance}\")"
   ]
  },
  {
   "cell_type": "markdown",
   "id": "de3fb639-a86a-4897-90bb-31428744ca28",
   "metadata": {},
   "source": [
    "## TASK 1.5 NEURAL NETWORK MODEL"
   ]
  },
  {
   "cell_type": "code",
   "execution_count": 49,
   "id": "c0ffad98-f423-45ea-8b94-45a77baa6b90",
   "metadata": {},
   "outputs": [
    {
     "data": {
      "text/plain": [
       "(0.966409580794496, 0.9592675566934894)"
      ]
     },
     "execution_count": 49,
     "metadata": {},
     "output_type": "execute_result"
    }
   ],
   "source": [
    "from sklearn.neural_network import MLPClassifier\n",
    "from sklearn.preprocessing import StandardScaler\n",
    "from sklearn.metrics import accuracy_score\n",
    "\n",
    "# Veri ölçeklendirme\n",
    "scaler = StandardScaler()\n",
    "X_train_scaled = scaler.fit_transform(X_train)\n",
    "X_test_scaled = scaler.transform(X_test)\n",
    "\n",
    "# MLP modelini tanımlayalım ve eğitelim\n",
    "mlp = MLPClassifier(hidden_layer_sizes=(100,), max_iter=1000, random_state=42)\n",
    "mlp.fit(X_train_scaled, y_train)\n",
    "\n",
    "# Eğitim ve test veri setleri üzerinde tahminler yapalım\n",
    "y_train_pred_mlp = mlp.predict(X_train_scaled)\n",
    "y_test_pred_mlp = mlp.predict(X_test_scaled)\n",
    "\n",
    "# Doğruluk hesaplayalım\n",
    "accuracy_train = accuracy_score(y_train, y_train_pred_mlp)\n",
    "accuracy_test = accuracy_score(y_test, y_test_pred_mlp)\n",
    "\n",
    "(accuracy_train, accuracy_test)\n"
   ]
  },
  {
   "cell_type": "code",
   "execution_count": 85,
   "id": "1751d8fc-24df-4ac2-908c-e49a29f3be4e",
   "metadata": {},
   "outputs": [
    {
     "name": "stdout",
     "output_type": "stream",
     "text": [
      "Epoch 1/10\n",
      "2733/2733 [==============================] - 7s 2ms/step - loss: 0.1691 - accuracy: 0.9441 - val_loss: 0.1382 - val_accuracy: 0.9574\n",
      "Epoch 2/10\n",
      "2733/2733 [==============================] - 6s 2ms/step - loss: 0.1350 - accuracy: 0.9583 - val_loss: 0.1344 - val_accuracy: 0.9569\n",
      "Epoch 3/10\n",
      "2733/2733 [==============================] - 6s 2ms/step - loss: 0.1295 - accuracy: 0.9598 - val_loss: 0.1280 - val_accuracy: 0.9592\n",
      "Epoch 4/10\n",
      "2733/2733 [==============================] - 6s 2ms/step - loss: 0.1259 - accuracy: 0.9608 - val_loss: 0.1262 - val_accuracy: 0.9598\n",
      "Epoch 5/10\n",
      "2733/2733 [==============================] - 6s 2ms/step - loss: 0.1240 - accuracy: 0.9614 - val_loss: 0.1306 - val_accuracy: 0.9589\n",
      "Epoch 6/10\n",
      "2733/2733 [==============================] - 5s 2ms/step - loss: 0.1224 - accuracy: 0.9618 - val_loss: 0.1265 - val_accuracy: 0.9594\n",
      "Epoch 7/10\n",
      "2733/2733 [==============================] - 6s 2ms/step - loss: 0.1214 - accuracy: 0.9621 - val_loss: 0.1263 - val_accuracy: 0.9599\n",
      "Epoch 8/10\n",
      "2733/2733 [==============================] - 6s 2ms/step - loss: 0.1203 - accuracy: 0.9625 - val_loss: 0.1232 - val_accuracy: 0.9607\n",
      "Epoch 9/10\n",
      "2733/2733 [==============================] - 5s 2ms/step - loss: 0.1196 - accuracy: 0.9625 - val_loss: 0.1226 - val_accuracy: 0.9609\n",
      "Epoch 10/10\n",
      "2733/2733 [==============================] - 6s 2ms/step - loss: 0.1185 - accuracy: 0.9627 - val_loss: 0.1214 - val_accuracy: 0.9613\n",
      "6832/6832 [==============================] - 7s 1ms/step - loss: 0.1176 - accuracy: 0.9628\n",
      "Accuracy on training data: 0.962804913520813\n",
      "6835/6835 [==============================] - 7s 970us/step\n",
      "[[0]\n",
      " [0]\n",
      " [0]\n",
      " ...\n",
      " [0]\n",
      " [0]\n",
      " [0]]\n",
      "6835/6835 [==============================] - 8s 1ms/step - loss: 0.1225 - accuracy: 0.9616\n",
      "Accuracy on testing data: 0.9616129994392395\n"
     ]
    }
   ],
   "source": [
    "from tensorflow.keras.models import Sequential\n",
    "from tensorflow.keras.layers import Dense\n",
    "import numpy as np\n",
    "\n",
    "# Define the model\n",
    "model = Sequential()\n",
    "model.add(Dense(128, activation='relu', input_shape=(X_train.shape[1],)))\n",
    "model.add(Dense(64, activation='relu'))\n",
    "# Since it's a binary classification problem, use sigmoid activation\n",
    "model.add(Dense(1, activation='sigmoid'))\n",
    "\n",
    "# Compile the model\n",
    "model.compile(optimizer='adam', loss='binary_crossentropy', metrics=['accuracy'])\n",
    "\n",
    "# Train the model\n",
    "history = model.fit(X_train, y_train, batch_size=64, epochs=10, validation_split=0.2)\n",
    "\n",
    "# Evaluate the model on training data\n",
    "train_loss, train_accuracy = model.evaluate(X_train, y_train)\n",
    "print(\"Accuracy on training data:\", train_accuracy)\n",
    "\n",
    "# Make predictions for the test data\n",
    "predictions_of_loan_status = model.predict(X_test)\n",
    "# Define the threshold > 0.5 probability for binary classification\n",
    "predictions = (predictions_of_loan_status > 0.5).astype(int)\n",
    "print(predictions)\n",
    "\n",
    "# Evaluate the model on testing data\n",
    "test_loss, test_accuracy = model.evaluate(X_test, y_test)\n",
    "print(\"Accuracy on testing data:\", test_accuracy)\n"
   ]
  },
  {
   "cell_type": "code",
   "execution_count": 86,
   "id": "b2dbc5fd-5c9d-4eeb-9935-8494f7630e5e",
   "metadata": {},
   "outputs": [
    {
     "name": "stdout",
     "output_type": "stream",
     "text": [
      "Top 10 predictors related to the output:\n",
      "pub_rec: Absolute Weight = 0.7609366178512573\n",
      "home_ownership_OWN: Absolute Weight = 0.6655761003494263\n",
      "revol_bal: Absolute Weight = 0.6449722051620483\n",
      "dti: Absolute Weight = 0.6382518410682678\n",
      "last_pymnt_amnt: Absolute Weight = 0.6304362416267395\n",
      "loan_amnt: Absolute Weight = 0.6231124997138977\n",
      "int_rate: Absolute Weight = 0.6191554665565491\n",
      "home_ownership_MORTGAGE: Absolute Weight = 0.6144096255302429\n",
      "recoveries: Absolute Weight = 0.6118907928466797\n",
      "revol_util: Absolute Weight = 0.6103931069374084\n",
      "\n",
      "Least 10 predictors related to the output:\n",
      "home_ownership_RENT: Absolute Weight = 0.32409074902534485\n",
      "tot_coll_amt: Absolute Weight = 0.3121337890625\n",
      "total_acc: Absolute Weight = 0.2669270932674408\n",
      "total_rec_int: Absolute Weight = 0.2060026228427887\n",
      "total_rev_hi_lim: Absolute Weight = 0.17479607462882996\n",
      "collections_12_mths_ex_med: Absolute Weight = 0.1430061161518097\n",
      "home_ownership_ANY: Absolute Weight = 0.12970995903015137\n",
      "tot_cur_bal: Absolute Weight = 0.12620294094085693\n",
      "annual_inc: Absolute Weight = 0.09587575495243073\n",
      "total_pymnt_inv: Absolute Weight = 0.09027497470378876\n"
     ]
    }
   ],
   "source": [
    "# Extract the weights of the first layer\n",
    "weights = model.layers[0].get_weights()[0]\n",
    "\n",
    "# Calculate the absolute mean weights for each predictor\n",
    "absolute_mean_weights = np.abs(weights).mean(axis=0)\n",
    "\n",
    "# Assuming 'X_train.columns' gives you the predictor names\n",
    "variable_list = X_train.columns\n",
    "\n",
    "# Create a dictionary mapping predictor names to their absolute mean weights\n",
    "predictor_weights = dict(zip(variable_list, absolute_mean_weights))\n",
    "\n",
    "# Sort the predictor weights based on their absolute mean values\n",
    "sorted_predictor_weights = sorted(predictor_weights.items(), key=lambda x: x[1], reverse=True)\n",
    "\n",
    "# Extract top 10 predictors related to the output\n",
    "top_predictors = sorted_predictor_weights[:10]\n",
    "\n",
    "# Extract least 10 predictors related to the output\n",
    "least_predictors = sorted_predictor_weights[-10:]\n",
    "\n",
    "print(\"Top 10 predictors related to the output:\")\n",
    "for predictor, weight in top_predictors:\n",
    "    print(f\"{predictor}: Absolute Weight = {weight}\")\n",
    "\n",
    "print(\"\\nLeast 10 predictors related to the output:\")\n",
    "for predictor, weight in least_predictors:\n",
    "    print(f\"{predictor}: Absolute Weight = {weight}\")"
   ]
  },
  {
   "cell_type": "code",
   "execution_count": null,
   "id": "6ca00462-e3fa-44ea-8bdb-bb9fadc9e973",
   "metadata": {},
   "outputs": [],
   "source": []
  }
 ],
 "metadata": {
  "kernelspec": {
   "display_name": "Python 3 (ipykernel)",
   "language": "python",
   "name": "python3"
  },
  "language_info": {
   "codemirror_mode": {
    "name": "ipython",
    "version": 3
   },
   "file_extension": ".py",
   "mimetype": "text/x-python",
   "name": "python",
   "nbconvert_exporter": "python",
   "pygments_lexer": "ipython3",
   "version": "3.11.8"
  }
 },
 "nbformat": 4,
 "nbformat_minor": 5
}
